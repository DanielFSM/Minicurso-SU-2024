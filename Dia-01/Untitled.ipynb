{
 "cells": [
  {
   "cell_type": "markdown",
   "id": "773ade20-c7c6-472a-9d50-93b81a75d8bb",
   "metadata": {},
   "source": [
    "## Introdução a Química Computacional"
   ]
  },
  {
   "cell_type": "markdown",
   "id": "5ba61908-fe0c-482b-9fd1-73c92937b86a",
   "metadata": {},
   "source": [
    "- Química computacional (também chamada de Modelagem Molecular) é um conjunto de técnicas para investigar problemas químicos em um computador em vez do laboratório com susbstâncias químicas.\n",
    "- Ela utiliza resultados da química teórica que são implementados em eficientes programas de computador, para calcular as estruturas e propriedades de átomos e moléculas."
   ]
  },
  {
   "cell_type": "markdown",
   "id": "bd8d581d-b465-4a44-badc-a70ff89b94ac",
   "metadata": {},
   "source": []
  }
 ],
 "metadata": {
  "kernelspec": {
   "display_name": "Python 3 (ipykernel)",
   "language": "python",
   "name": "python3"
  },
  "language_info": {
   "codemirror_mode": {
    "name": "ipython",
    "version": 3
   },
   "file_extension": ".py",
   "mimetype": "text/x-python",
   "name": "python",
   "nbconvert_exporter": "python",
   "pygments_lexer": "ipython3",
   "version": "3.11.8"
  }
 },
 "nbformat": 4,
 "nbformat_minor": 5
}
