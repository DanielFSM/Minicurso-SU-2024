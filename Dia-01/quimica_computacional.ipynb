{
 "cells": [
  {
   "cell_type": "markdown",
   "metadata": {},
   "source": [
    "## Introdução a Química Computacional\n",
    "\n",
    "Química computacional (também chamada de Modelagem Molecular) é um conjunto de técnicas para investigar problemas químicos em um computador em vez do laboratório com susbstâncias químicas.\n",
    "\n",
    "- *Energia Eletrostática* surge da interação de natureza Coulombiana entre regiões de densidade de carga de moléculas isoladas.\n",
    "- *Energia de Indução* é o efeito energético da polarização mútua entre as duas moléculas.\n",
    "- *Energia de Dispersão* é uma consequência da correlação eletrônica intermolecular, geralmente explicada em termos de flutuação correlacionadas da densidade eletrônica de ambas moléculas.\n",
    "- *Energia de Torca* é um efeito repulsivo de curto-alcançe que é consequência do princípio da Exclusão de Pauli. Químicos orgânicos se referem a este termo como repulsões estéricas.\n",
    "\n",
    "Nesta atividade, iremos explorar o nível mais simples da Teoria SAPT chamada de SAPT0 (veja [Parker:2014] para as definições dos diferentes níveis do SAPT). Uma correção SAPT particular $E^{(nk)}$ corresponde aos efeitos que são da $n$-ésima ordem na interação intermolecular e $k$-ésima ordem na correlação eletrônica intramolecular. No SAPT0, correlação intermolecular é negligenciada e a interação intermolecular é incluída em termos de segunda ordem:\n",
    "\n",
    "\\begin{equation}\n",
    "E_{\\rm int}^{\\rm SAPT0}=E^{(10)}_{\\rm elst}+E^{(10)}_{\\rm exch}+E^{(20)}_{\\rm ind,resp}+E^{(20)}_{\\rm exch-ind,resp}+E^{(20)}_{\\rm disp}+E^{(20)}_{\\rm exch-disp}+\\delta E^{(2)}_{\\rm HF}\n",
    "\\end{equation}\n",
    "\n",
    "Nesta equação, as correções consecutivas contabilizam os efeitos eletrostáticos, troca de primeira ordem, indução, indução troca, dispersão e dispersão troca, respectivamente. O subscrito adicional ''resp'' denota que estas correções são computadas incluindo efeitos *resposta* - os orbitais moleculares HF de cada molécula são relaxados no campo elétrico gerado pela outra molécula. O último termo $\\delta E^{(2)}_{\\rm HF}$ aproxima efeitos de terceira- e ordens superiores da indução e é determinado de um cálculo HF supermolecular.\n",
    "\n",
    "Continuando com nosso exemplo de dois átomos de Hélio, vamos agora calcular as contribuições para energia de interação SAPT0 usando o Psi4. Nos resultados que seguirão, iremos agrumar $E^{(20)}_{\\rm ind,resp}$, $E^{(20)}_{\\rm exch-ind,resp}$, e $\\delta E^{(2)}_{\\rm HF}$ para definir o efeito de indução total, e agrupar $E^{(20)}_{\\rm disp}$ com $E^{(20)}_{\\rm exch-disp}$ para definir o efeito de dispersão total.\n"
   ]
  },
